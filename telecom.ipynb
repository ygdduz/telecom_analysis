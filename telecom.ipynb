{
 "cells": [
  {
   "cell_type": "code",
   "execution_count": null,
   "metadata": {},
   "outputs": [],
   "source": [
    "import pandas as pd\n",
    "\n",
    "df = pd.read_csv(\"week9-sample.csv\", sep='\\t')\n",
    "\n",
    "# x = df.groupby('Kisi')['Dakika'].apply(pd.rolling_mean, 2, min_periods=1)\n",
    "x = df.groupby('Kisi')['Dakika'].rolling(2).sum().reset_index(0,drop=True)\n",
    "y = df.groupby('Kisi')['Dakika'].rolling(3).sum().reset_index(0,drop=True)\n",
    "print(y)"
   ]
  },
  {
   "cell_type": "code",
   "execution_count": null,
   "metadata": {},
   "outputs": [],
   "source": [
    "import pandas as pd\n",
    "import numpy as np\n",
    "telecom = pd.read_csv(\"telecom_churn_data.csv\")\n",
    "\n",
    "# Where summation of columns = 0 then churn =1  else 0\n",
    "telecom['churn']= np.where(telecom[['total_ic_mou_9','total_og_mou_9','vol_2g_mb_9',\\\n",
    "\t\t\t\t\t\t\t\t\t'vol_3g_mb_9']].sum(axis=1)== 0,1,0)\n",
    "\n",
    "# Removing all features having ‘ _9’, etc. in their names\n",
    "telecom.drop(telecom.filter(regex='_9|sep', axis = 1).columns, axis=1,inplace=True)"
   ]
  },
  {
   "cell_type": "code",
   "execution_count": null,
   "metadata": {},
   "outputs": [],
   "source": [
    "del telecom['mobile_number']\n",
    "\n",
    "telecom = telecom.fillna(0)\n",
    "\n",
    "del telecom['sachet_2g_6']\n",
    "del telecom['sachet_2g_7']\n",
    "del telecom['sachet_2g_8']\n",
    "del telecom['total_rech_amt_6']\n",
    "del telecom['total_rech_amt_7']\n",
    "del telecom['total_rech_amt_8']\n",
    "\n",
    "columns = list(telecom.columns)"
   ]
  },
  {
   "cell_type": "code",
   "execution_count": null,
   "metadata": {},
   "outputs": [],
   "source": [
    "#! ELIMINATING INTERCORRELATED\n",
    "for x1 in columns:\n",
    "\tfor x2 in columns:\n",
    "\t\tif str(telecom.dtypes[x1]) in ['int64', 'float64']:\n",
    "\t\t\tif str(telecom.dtypes[x2]) in ['int64', 'float64']:\n",
    "\t\t\t\tif x1 > x2:\n",
    "\t\t\t\t\tif x1 != 'churn' and x2 != 'churn':\n",
    "\t\t\t\t\t\tc = telecom[x1].corr(telecom[x2])\n",
    "\t\t\t\t\t\tif abs(c) > 0.95:\n",
    "\t\t\t\t\t\t\tprint(x1, x2, c)"
   ]
  },
  {
   "cell_type": "code",
   "execution_count": null,
   "metadata": {},
   "outputs": [],
   "source": [
    "#! ELIMINATING COLUMNS WITH VERY LOW CORRELATION\n",
    "for x in columns:\n",
    "\tif str(telecom.dtypes[x]) in ['int64', 'float64']:\n",
    "\t\tc = telecom[x].corr(telecom['churn'])\n",
    "\t\tif abs(c) < 0.05:\n",
    "\t\t\tdel telecom[x]\n",
    "\t\t\tprint(c, x)"
   ]
  },
  {
   "cell_type": "code",
   "execution_count": null,
   "metadata": {},
   "outputs": [],
   "source": [
    "\n",
    "degisken_index = 0\n",
    "for x1 in columns:\n",
    "\tfor x2 in columns:\n",
    "\t\tif str(telecom.dtypes[x1]) in ['int64', 'float64']:\n",
    "\t\t\tif str(telecom.dtypes[x2]) in ['int64', 'float64']:\n",
    "\t\t\t\tif x1 > x2:\n",
    "\t\t\t\t\tif x1 != 'churn' and x2 != 'churn':\n",
    "\t\t\t\t\t\t#for t in [1,2,5,10,50,100,1000]:\n",
    "\t\t\t\t\t\t\tdegisken_index += 1\n",
    "\t\t\t\t\t\t\tcolumn = 'compare' + str(degisken_index)\n",
    "\n",
    "\t\t\t\t\t\t\t#telecom[column] = telecom[ [x1, x2] ].apply(lambda v: safeDivide(v), axis = 1 ) \n",
    "\n",
    "\t\t\t\t\t\t\ttelecom[column] = telecom[x1] > telecom[x2]\n",
    "\t\t\t\t\t\t\ttelecom[column] = telecom[column].astype(int)\n",
    "\n",
    "\t\t\t\t\t\t\tc1 = abs(telecom[x1].corr(telecom['churn']))\n",
    "\t\t\t\t\t\t\tc2 = abs(telecom[x2].corr(telecom['churn']))\n",
    "\n",
    "\t\t\t\t\t\t\tcorrelation = telecom[column].corr(telecom['churn'])\n",
    "\t\t\t\t\t\t\tif abs(correlation) > 0.50 and abs(correlation) > 0.10 + c1 and abs(correlation) > 0.10 + c2:\n",
    "\t\t\t\t\t\t\t\tprint(correlation, x1, '>', x2)\n",
    "\t\t\t\t\t\t\telse:\n",
    "\t\t\t\t\t\t\t\tdel telecom[column]"
   ]
  },
  {
   "cell_type": "code",
   "execution_count": null,
   "metadata": {},
   "outputs": [],
   "source": [
    "from sklearn.ensemble import RandomForestClassifier\n",
    "\n",
    "for c in telecom:\n",
    "\tif str(telecom.dtypes[c]) == 'object':\n",
    "\t\tdel telecom[c]"
   ]
  },
  {
   "cell_type": "code",
   "execution_count": null,
   "metadata": {},
   "outputs": [],
   "source": [
    "\n",
    "data = telecom.copy()\n",
    "y = data['churn']\n",
    "x = data\n",
    "del x['churn']\n",
    "\n",
    "clf = RandomForestClassifier(max_depth=6, random_state=0)\n",
    "clf.fit(x, y)\n",
    "print(clf.score(x,y))\n",
    "\n",
    "importances = list(clf.feature_importances_)\n",
    "for i in range(len(list(x.columns))):\n",
    "    #if importances[i] > 0.01:\n",
    "    print(i, x.columns[i], importances[i])\n"
   ]
  },
  {
   "cell_type": "code",
   "execution_count": 1,
   "metadata": {},
   "outputs": [],
   "source": [
    "import numpy as np \n",
    "df['churn'] = np.where(df[['A','B','C']].sum(axis=1)== 0, 1, 0)\n"
   ]
  }
 ],
 "metadata": {
  "interpreter": {
   "hash": "5d240ba0dc525c389faa33f5dcce5b4f32b6d6aa6d70d6d2dd929bd2b09ab69f"
  },
  "kernelspec": {
   "display_name": "Python 3.10.4 64-bit",
   "language": "python",
   "name": "python3"
  },
  "language_info": {
   "name": "python",
   "version": "3.10.4"
  },
  "orig_nbformat": 4
 },
 "nbformat": 4,
 "nbformat_minor": 2
}
